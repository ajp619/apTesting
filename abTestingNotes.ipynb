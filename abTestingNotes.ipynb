{
 "cells": [
  {
   "cell_type": "markdown",
   "metadata": {},
   "source": [
    "# AB Testing"
   ]
  },
  {
   "cell_type": "markdown",
   "metadata": {},
   "source": [
    "## Significance Testing"
   ]
  },
  {
   "cell_type": "markdown",
   "metadata": {},
   "source": [
    "We have two measurements. We want to know if there is a difference.\n",
    "\n",
    "$$ X_1: \\bar{X_1}, S_1$$\n",
    "\n",
    "$$ X_2: \\bar{X_2}, S_2$$"
   ]
  },
  {
   "cell_type": "markdown",
   "metadata": {},
   "source": [
    "Assumptions:\n",
    "- The means are different\n",
    "- The standard deviations are the same\n",
    "\n",
    "The second is important. If we have two measurements of what we assume is the same standard deviation, we can do a weighted average to estimate the pooled standard deviation. This is the same as using the data from both measurements to calculate a standard deviation.\n",
    "\n",
    "If we have two measurements that are different standard deviations, and we need to combine them, we tend to do use RMS (Root Mean Square). With that we end up with something larger than either one, but not as big as both added together."
   ]
  },
  {
   "cell_type": "markdown",
   "metadata": {},
   "source": [
    "### Pooled Variance"
   ]
  },
  {
   "cell_type": "markdown",
   "metadata": {},
   "source": [
    "The estimated standard deviation of both $X_1$ and $X_2$ (i.e. the pooled standard deviation) is:\n",
    "\n",
    "$$\n",
    "S_p = \\sqrt{\n",
    "  \\frac{N_1 S_1 + N_2 S_2}\n",
    "       {N_1 + N_2}\n",
    "}\n",
    "$$ \n",
    "\n",
    "If N is the same this reduces to:\n",
    "\n",
    "$$\n",
    "S_p = \\sqrt{\n",
    "  \\frac{S_1 + S_2}\n",
    "       {2}\n",
    "}\n",
    "$$ "
   ]
  },
  {
   "cell_type": "markdown",
   "metadata": {},
   "source": [
    "### T Statistic"
   ]
  },
  {
   "cell_type": "markdown",
   "metadata": {},
   "source": [
    "Now we want to estimate the standard deviation of the difference $\\bar{X_1} - \\bar{X_2}$. We estimate the variance of each of those as $\\frac{S_p^2}{N}$ ([standard error of the mean](https://en.wikipedia.org/wiki/Standard_error)), then combine those using RMS:\n",
    "\n",
    "$$\n",
    "\\begin{array}{lcl}\n",
    "& = & \\sqrt{\n",
    "  \\frac{S_p^2}{N} + \\frac{S_p^2}{N}\n",
    "} \\\\\n",
    "& = & S_p \\sqrt{\n",
    "  \\frac{1}{N} + \\frac{1}{N}\n",
    "} \\\\\n",
    "& = & S_p \\sqrt{\n",
    "  \\frac{2}{N}\n",
    "} \\\\\n",
    "\\end{array}\n",
    "$$\n",
    "\n",
    "Putting that all together we get:\n",
    "\n",
    "$$ \\text{t_statistic} = \n",
    "\\frac{\\bar{X_1} - \\bar{X_2}}\n",
    "     {S_p \\sqrt{\\frac{2}{N}}}\n",
    "$$"
   ]
  },
  {
   "cell_type": "markdown",
   "metadata": {
    "collapsed": true
   },
   "source": [
    "## Chi Square Test"
   ]
  },
  {
   "cell_type": "markdown",
   "metadata": {},
   "source": [
    "We can use the chi square test to test if there is a significant difference between two scenarios. An example of this is with click through rates. We would collect the following information:\n",
    "\n",
    "Advertisement | Click | No Click\n",
    "---                     | ---   | ---\n",
    "A | 36 | 14\n",
    "B | 30 | 25\n",
    "\n",
    "We can calculate the expected value of a click:\n",
    "\n",
    "$$ \n",
    "\\begin{array}{rcl}\n",
    "  \\text{Total Observations}(N) & = & \\text{Click} + \\text{No Click}\\\\\n",
    "  N & = & 36 + 30 + 14 + 25 \\\\\n",
    "\\end{array}\n",
    "$$\n",
    "\n",
    "$$ \n",
    "\\begin{array}{rclcl}\n",
    "  E[Click] & = & \\frac{\\sum{Click}}{N} & = & \\frac{36 + 30}{N}  \\\\\n",
    "  E[No Click] & = & \\frac{\\sum{No Click}}{N} & = & \\frac{14 + 25}{N}\n",
    "\\end{array}\n",
    "$$\n",
    "\n",
    "The chi square test measures the distance of each value from the expected value to determine if the total delta is significant(*).\n",
    "\n",
    "The deltas are calculated as:\n",
    "\n",
    "$$\n",
    "\\begin{array}{ccc}\n",
    "  \\text{Advertisement} & \\text{Click} & \\text{No Click} \\\\\n",
    "  \\text{A} & \\small{T[A, Click] - E[Click]\\sum{A}} & \\small{T[A, No Click] - E[No Click]\\sum{A}} \\\\\n",
    "  \\text{B} & \\small{T[B, Click] - E[Click]\\sum{B}} & \\small{T[B, No Click] - E[No Click]\\sum{B}} \\\\\n",
    "\\end{array}\n",
    "$$\n",
    "\n",
    "\n",
    "(*) Remember the chi square distribution is the distribution of a sum of independent squares.\n",
    "\n"
   ]
  },
  {
   "cell_type": "code",
   "execution_count": 40,
   "metadata": {},
   "outputs": [
    {
     "data": {
      "image/png": "[encoded data removed]",
      "text/plain": [
       "<matplotlib.figure.Figure at 0x116c2e050>"
      ]
     },
     "metadata": {},
     "output_type": "display_data"
    }
   ],
   "source": [
    "import numpy as np\n",
    "import matplotlib.pyplot as plt\n",
    "from scipy.stats import chi2\n",
    "\n",
    "class DataGenerator:\n",
    "    def __init__(self, p1, p2):\n",
    "        self.p1 = p1\n",
    "        self.p2 = p2\n",
    "        \n",
    "    def next(self):\n",
    "        click1 = 1 if (np.random.random() < self.p1) else 0\n",
    "        click2 = 1 if (np.random.random() < self.p2) else 0\n",
    "        return click1, click2\n",
    "    \n",
    "def get_p_value(T):\n",
    "    det = T[0, 0]*T[1,1] - T[0,1]*T[1,0]\n",
    "    c2 = float(det) / T[0].sum() * det / T[1].sum() * T.sum() / T[:,0].sum() / T[:,1].sum()\n",
    "    p = 1 - chi2.cdf(x=c2, df=1)\n",
    "    return p\n",
    "\n",
    "def run_experiment(p1, p2, N):\n",
    "    data = DataGenerator(p1, p2)\n",
    "    p_values = np.empty(N)\n",
    "    T = np.zeros((2, 2)).astype(np.float32)\n",
    "    for i in xrange(N):\n",
    "        c1, c2 = data.next()\n",
    "        T[0,c1] += 1\n",
    "        T[1,c2] += 1\n",
    "        if i < 10:\n",
    "            p_values[i] = None\n",
    "        else:\n",
    "            p_values[i] = get_p_value(T)\n",
    "    plt.plot(p_values)\n",
    "    plt.plot(np.ones(N)*0.05)\n",
    "    plt.show()\n",
    "\n",
    "run_experiment(0.1, 0.11, 20000)\n",
    "        \n",
    "        "
   ]
  },
  {
   "cell_type": "markdown",
   "metadata": {
    "collapsed": true
   },
   "source": [
    "## Bayesian A/B Testing"
   ]
  },
  {
   "cell_type": "code",
   "execution_count": null,
   "metadata": {
    "collapsed": true
   },
   "outputs": [],
   "source": []
  }
 ],
 "metadata": {
  "kernelspec": {
   "display_name": "Python 2",
   "language": "python",
   "name": "python2"
  },
  "language_info": {
   "codemirror_mode": {
    "name": "ipython",
    "version": 2
   },
   "file_extension": ".py",
   "mimetype": "text/x-python",
   "name": "python",
   "nbconvert_exporter": "python",
   "pygments_lexer": "ipython2",
   "version": "2.7.13"
  },
  "toc": {
   "colors": {
    "hover_highlight": "#DAA520",
    "navigate_num": "#000000",
    "navigate_text": "#333333",
    "running_highlight": "#FF0000",
    "selected_highlight": "#FFD700",
    "sidebar_border": "#EEEEEE",
    "wrapper_background": "#FFFFFF"
   },
   "moveMenuLeft": true,
   "nav_menu": {
    "height": "84px",
    "width": "252px"
   },
   "navigate_menu": true,
   "number_sections": false,
   "sideBar": true,
   "threshold": 4,
   "toc_cell": false,
   "toc_section_display": "block",
   "toc_window_display": false,
   "widenNotebook": false
  }
 },
 "nbformat": 4,
 "nbformat_minor": 2
}
